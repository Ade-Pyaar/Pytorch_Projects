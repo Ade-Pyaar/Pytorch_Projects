{
  "nbformat": 4,
  "nbformat_minor": 0,
  "metadata": {
    "colab": {
      "name": "Style transfer with pytorch.ipynb",
      "provenance": [],
      "collapsed_sections": []
    },
    "kernelspec": {
      "name": "python3",
      "display_name": "Python 3"
    },
    "accelerator": "GPU"
  },
  "cells": [
    {
      "cell_type": "markdown",
      "metadata": {
        "id": "iKloNMWcXrAi"
      },
      "source": [
        "#import the libraries"
      ]
    },
    {
      "cell_type": "code",
      "metadata": {
        "id": "Z-QycqV_XM9P"
      },
      "source": [
        "%matplotlib inline\n",
        "\n",
        "from PIL import Image\n",
        "import matplotlib.pyplot as plt\n",
        "import numpy as np\n",
        "\n",
        "import torch\n",
        "import torch.optim as optim\n",
        "from torchvision import transforms, models"
      ],
      "execution_count": null,
      "outputs": []
    },
    {
      "cell_type": "markdown",
      "metadata": {
        "id": "XFvrOIqhXwk1"
      },
      "source": [
        "# load in vgg19 features"
      ]
    },
    {
      "cell_type": "code",
      "metadata": {
        "id": "74ydA_I5X0De"
      },
      "source": [
        "vgg = models.vgg19(pretrained=True).features\n",
        "\n",
        "for param in vgg.parameters():\n",
        "    param.requires_grad_(False)"
      ],
      "execution_count": null,
      "outputs": []
    },
    {
      "cell_type": "code",
      "metadata": {
        "id": "pIZE4VOkYKCE",
        "outputId": "37660e86-3289-4bb9-827f-249da41ce937",
        "colab": {
          "base_uri": "https://localhost:8080/",
          "height": 680
        }
      },
      "source": [
        "# move the model to gpu\n",
        "\n",
        "device = torch.device('cuda' if torch.cuda.is_available() else 'cpu')\n",
        "\n",
        "vgg.to(device)"
      ],
      "execution_count": null,
      "outputs": [
        {
          "output_type": "execute_result",
          "data": {
            "text/plain": [
              "Sequential(\n",
              "  (0): Conv2d(3, 64, kernel_size=(3, 3), stride=(1, 1), padding=(1, 1))\n",
              "  (1): ReLU(inplace=True)\n",
              "  (2): Conv2d(64, 64, kernel_size=(3, 3), stride=(1, 1), padding=(1, 1))\n",
              "  (3): ReLU(inplace=True)\n",
              "  (4): MaxPool2d(kernel_size=2, stride=2, padding=0, dilation=1, ceil_mode=False)\n",
              "  (5): Conv2d(64, 128, kernel_size=(3, 3), stride=(1, 1), padding=(1, 1))\n",
              "  (6): ReLU(inplace=True)\n",
              "  (7): Conv2d(128, 128, kernel_size=(3, 3), stride=(1, 1), padding=(1, 1))\n",
              "  (8): ReLU(inplace=True)\n",
              "  (9): MaxPool2d(kernel_size=2, stride=2, padding=0, dilation=1, ceil_mode=False)\n",
              "  (10): Conv2d(128, 256, kernel_size=(3, 3), stride=(1, 1), padding=(1, 1))\n",
              "  (11): ReLU(inplace=True)\n",
              "  (12): Conv2d(256, 256, kernel_size=(3, 3), stride=(1, 1), padding=(1, 1))\n",
              "  (13): ReLU(inplace=True)\n",
              "  (14): Conv2d(256, 256, kernel_size=(3, 3), stride=(1, 1), padding=(1, 1))\n",
              "  (15): ReLU(inplace=True)\n",
              "  (16): Conv2d(256, 256, kernel_size=(3, 3), stride=(1, 1), padding=(1, 1))\n",
              "  (17): ReLU(inplace=True)\n",
              "  (18): MaxPool2d(kernel_size=2, stride=2, padding=0, dilation=1, ceil_mode=False)\n",
              "  (19): Conv2d(256, 512, kernel_size=(3, 3), stride=(1, 1), padding=(1, 1))\n",
              "  (20): ReLU(inplace=True)\n",
              "  (21): Conv2d(512, 512, kernel_size=(3, 3), stride=(1, 1), padding=(1, 1))\n",
              "  (22): ReLU(inplace=True)\n",
              "  (23): Conv2d(512, 512, kernel_size=(3, 3), stride=(1, 1), padding=(1, 1))\n",
              "  (24): ReLU(inplace=True)\n",
              "  (25): Conv2d(512, 512, kernel_size=(3, 3), stride=(1, 1), padding=(1, 1))\n",
              "  (26): ReLU(inplace=True)\n",
              "  (27): MaxPool2d(kernel_size=2, stride=2, padding=0, dilation=1, ceil_mode=False)\n",
              "  (28): Conv2d(512, 512, kernel_size=(3, 3), stride=(1, 1), padding=(1, 1))\n",
              "  (29): ReLU(inplace=True)\n",
              "  (30): Conv2d(512, 512, kernel_size=(3, 3), stride=(1, 1), padding=(1, 1))\n",
              "  (31): ReLU(inplace=True)\n",
              "  (32): Conv2d(512, 512, kernel_size=(3, 3), stride=(1, 1), padding=(1, 1))\n",
              "  (33): ReLU(inplace=True)\n",
              "  (34): Conv2d(512, 512, kernel_size=(3, 3), stride=(1, 1), padding=(1, 1))\n",
              "  (35): ReLU(inplace=True)\n",
              "  (36): MaxPool2d(kernel_size=2, stride=2, padding=0, dilation=1, ceil_mode=False)\n",
              ")"
            ]
          },
          "metadata": {
            "tags": []
          },
          "execution_count": 3
        }
      ]
    },
    {
      "cell_type": "markdown",
      "metadata": {
        "id": "lgweNfEIYu8C"
      },
      "source": [
        "# load in content and style image"
      ]
    },
    {
      "cell_type": "code",
      "metadata": {
        "id": "xvDDGnuoYx4F"
      },
      "source": [
        "def load_image(img_path, max_size=400, shape=None):\n",
        "\n",
        "    image = Image.open(img_path).convert('RGB')\n",
        "\n",
        "    if max(image.size) > max_size:\n",
        "        size = max_size\n",
        "    else:\n",
        "        size = max(image.size)\n",
        "\n",
        "    if shape is not None:\n",
        "        size = shape\n",
        "\n",
        "    in_transform = transforms.Compose([\n",
        "                                       transforms.Resize(size),\n",
        "                                       transforms.ToTensor(),\n",
        "                                       transforms.Normalize((0.485, 0.465, 0.406),\n",
        "                                                            (0.229, 0.224, 0.225))])\n",
        "    image = in_transform(image)[:3, :,:].unsqueeze(0)\n",
        "\n",
        "    return image"
      ],
      "execution_count": null,
      "outputs": []
    },
    {
      "cell_type": "code",
      "metadata": {
        "id": "T5kgBunuabfe"
      },
      "source": [
        "# load in the images\n",
        "\n",
        "content = load_image('/content/my_content.png').to(device)\n",
        "\n",
        "style = load_image('/content/image.jpeg', shape=content.shape[-2:]).to(device)"
      ],
      "execution_count": null,
      "outputs": []
    },
    {
      "cell_type": "code",
      "metadata": {
        "id": "Wgltqhoza1lq"
      },
      "source": [
        "# function for displaying the images\n",
        "\n",
        "def im_convert(tensor):\n",
        "    image = tensor.to('cpu').clone().detach()\n",
        "    image = image.numpy().squeeze()\n",
        "    image = image.transpose(1,2,0)\n",
        "    image = image * np.array((0.229, 0.224, 0.225)) + np.array((0.485, 0.465, 0.406))\n",
        "    image = image.clip(0, 1)\n",
        "\n",
        "    return image"
      ],
      "execution_count": null,
      "outputs": []
    },
    {
      "cell_type": "code",
      "metadata": {
        "id": "MU8ltFgJbixB"
      },
      "source": [
        "# display the images\n",
        "fig, (ax1, ax2) = plt.subplots(1, 2, figsize=(20, 10))\n",
        "\n",
        "ax1.imshow(im_convert(content))\n",
        "ax2.imshow(im_convert(style))"
      ],
      "execution_count": null,
      "outputs": []
    },
    {
      "cell_type": "code",
      "metadata": {
        "id": "c52BWOSVb6NY"
      },
      "source": [
        ""
      ],
      "execution_count": null,
      "outputs": []
    },
    {
      "cell_type": "code",
      "metadata": {
        "id": "9usqAc72cYLV"
      },
      "source": [
        "print(vgg)"
      ],
      "execution_count": null,
      "outputs": []
    },
    {
      "cell_type": "markdown",
      "metadata": {
        "id": "IJepp5UUcPyD"
      },
      "source": [
        "# style and content features"
      ]
    },
    {
      "cell_type": "code",
      "metadata": {
        "id": "TA_Ab_5BcTxt"
      },
      "source": [
        "def get_features(image, model, layers=None):\n",
        "\n",
        "    if layers is None:\n",
        "        layers = {'0': 'conv1_1',\n",
        "                  '5': 'conv2_1',\n",
        "                  '10': 'conv3_1',\n",
        "                  '19': 'conv4_1',\n",
        "                  '21': 'conv4_2',\n",
        "                  '28': 'conv5_1'}\n",
        "\n",
        "    features = {}\n",
        "    x = image\n",
        "\n",
        "    for name, layer in model._modules.items():\n",
        "        x = layer(x)\n",
        "\n",
        "        if name in layers:\n",
        "            features[layers[name]] = x\n",
        "\n",
        "    return features"
      ],
      "execution_count": null,
      "outputs": []
    },
    {
      "cell_type": "code",
      "metadata": {
        "id": "WlApI3j6ePTw"
      },
      "source": [
        ""
      ],
      "execution_count": null,
      "outputs": []
    },
    {
      "cell_type": "markdown",
      "metadata": {
        "id": "SdM7PySVeRo1"
      },
      "source": [
        "# gram matrix"
      ]
    },
    {
      "cell_type": "code",
      "metadata": {
        "id": "UaEjB_veeS4R"
      },
      "source": [
        "def gram_matrix(tensor):\n",
        "\n",
        "    _, d, h, w = tensor.size()\n",
        "\n",
        "    tensor = tensor.view(d, h*w)\n",
        "\n",
        "    gram = torch.mm(tensor, tensor.t())\n",
        "\n",
        "    return gram"
      ],
      "execution_count": null,
      "outputs": []
    },
    {
      "cell_type": "code",
      "metadata": {
        "id": "bEJOsztzfBNw"
      },
      "source": [
        ""
      ],
      "execution_count": null,
      "outputs": []
    },
    {
      "cell_type": "markdown",
      "metadata": {
        "id": "2bCeaKlYfPer"
      },
      "source": [
        "# putting it all together"
      ]
    },
    {
      "cell_type": "code",
      "metadata": {
        "id": "OeI7g1U0fRdI"
      },
      "source": [
        "#get content and style features only once before forming the target image\n",
        "content_features = get_features(content, vgg)\n",
        "style_features = get_features(style, vgg)\n",
        "\n",
        "#calculate the gram matrices for each layer of our style representation\n",
        "style_grams = {layer: gram_matrix(style_features[layer]) for layer in style_features}\n",
        "\n",
        "#create a third target image and prep it for change, it is good to start with target as a copy of content image\n",
        "target = content.clone().requires_grad_(True).to(device)"
      ],
      "execution_count": null,
      "outputs": []
    },
    {
      "cell_type": "code",
      "metadata": {
        "id": "q0V3YyfzgnSS"
      },
      "source": [
        ""
      ],
      "execution_count": null,
      "outputs": []
    },
    {
      "cell_type": "markdown",
      "metadata": {
        "id": "Wa6mQavmhMHh"
      },
      "source": [
        "# loss and weights"
      ]
    },
    {
      "cell_type": "code",
      "metadata": {
        "id": "j4mNMAG9hNan"
      },
      "source": [
        "style_weights = {'conv1_1': 0.7,\n",
        "                 'conv2_1': 0.4,\n",
        "                 'conv3_1': 0.2,\n",
        "                 'conv4_1': 0.2,\n",
        "                 'conv5_1': 0.2}\n",
        "\n",
        "content_weight = 1\n",
        "style_weight = 1e6"
      ],
      "execution_count": null,
      "outputs": []
    },
    {
      "cell_type": "code",
      "metadata": {
        "id": "S6fgQLkwh01N"
      },
      "source": [
        ""
      ],
      "execution_count": null,
      "outputs": []
    },
    {
      "cell_type": "markdown",
      "metadata": {
        "id": "h0RTREw3h-go"
      },
      "source": [
        "# updating the target and calculating losses"
      ]
    },
    {
      "cell_type": "code",
      "metadata": {
        "id": "o26T68cziBmo"
      },
      "source": [
        "show_every = 400\n",
        "\n",
        "optimizer = optim.Adam([target], lr=0.003)\n",
        "steps = 2000\n",
        "\n",
        "\n",
        "for ii in range(1, steps+1):\n",
        "\n",
        "    target_features = get_features(target, vgg)\n",
        "    content_loss = torch.mean((target_features['conv4_2'] - content_features['conv4_2'])**2)\n",
        "\n",
        "    style_loss = 0\n",
        "\n",
        "    for layer in style_weights:\n",
        "        target_feature = target_features[layer]\n",
        "        _, d, h, w = target_feature.shape\n",
        "\n",
        "        target_gram = gram_matrix(target_feature)\n",
        "\n",
        "        style_gram = style_grams[layer]\n",
        "\n",
        "        layer_style_loss = style_weights[layer] * torch.mean((target_gram - style_gram)**2)\n",
        "\n",
        "        style_loss += layer_style_loss / (d*h*w)\n",
        "\n",
        "    total_loss = content_weight * content_loss + style_weight * style_loss\n",
        "\n",
        "    optimizer.zero_grad()\n",
        "    total_loss.backward()\n",
        "    optimizer.step()\n",
        "\n",
        "    #display intermediate images and print the loss\n",
        "    if ii % show_every == 0:\n",
        "        print(f\"Total_loss: {total_loss.item()}\")\n",
        "        plt.imshow(im_convert(target))\n",
        "        plt.show()"
      ],
      "execution_count": null,
      "outputs": []
    },
    {
      "cell_type": "code",
      "metadata": {
        "id": "t0cKLeSClN6T"
      },
      "source": [
        ""
      ],
      "execution_count": null,
      "outputs": []
    },
    {
      "cell_type": "code",
      "metadata": {
        "id": "r3z5NPhslOQy"
      },
      "source": [
        "# display content and final target image\n",
        "\n",
        "fig, (ax1, ax2) = plt.subplots(1, 2, figsize=(20,10))\n",
        "ax1.imshow(im_convert(content))\n",
        "ax2.imshow(im_convert(target))"
      ],
      "execution_count": null,
      "outputs": []
    }
  ]
}